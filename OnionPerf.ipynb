{
 "cells": [
  {
   "cell_type": "code",
   "execution_count": 27,
   "metadata": {
    "collapsed": false
   },
   "outputs": [],
   "source": [
    "import urllib2\n",
    "import ssl\n",
    "\n",
    "ctx = ssl.create_default_context()\n",
    "ctx.check_hostname = False\n",
    "ctx.verify_mode = ssl.CERT_NONE\n",
    "\n",
    "links = [ \"https://199.119.112.144/onionperf-one-51200-2017-01-19.tpf\",\n",
    "          \"https://199.119.112.144/onionperf-one-51200-2017-01-20.tpf\",\n",
    "          \"https://199.119.112.144/onionperf-one-51200-2017-01-21.tpf\",\n",
    "          \"https://199.119.112.144/onionperf-one-51200-2017-01-22.tpf\",\n",
    "          \"https://199.119.112.144/onionperf-one-51200-2017-01-23.tpf\",\n",
    "          \"https://199.119.112.144/onionperf-one-51200-2017-01-24.tpf\",         \n",
    "        ]\n",
    "\n",
    "days = []\n",
    "\n",
    "for link in links:\n",
    "    f = urllib2.urlopen(link, context=ctx)\n",
    "    myfile = f.read()\n",
    "    days.append(myfile)"
   ]
  },
  {
   "cell_type": "code",
   "execution_count": 36,
   "metadata": {
    "collapsed": false
   },
   "outputs": [],
   "source": [
    "day_ps = []\n",
    "for text in days:\n",
    "    data = text.split('@type torperf 1.0')\n",
    "    data_points = []\n",
    "    for d in data:\n",
    "        dp = d.split(' ')\n",
    "        data_points.append(dp)\n",
    "    data_points.pop(0)\n",
    "\n",
    "    dps = []\n",
    "    for dp in data_points:\n",
    "        p = {}\n",
    "        connect = 0\n",
    "        complete = 0\n",
    "        timeout = 0\n",
    "        for d in dp:\n",
    "            f = d.split('=')\n",
    "            if f[0] == 'CONNECT':\n",
    "                connect = f[1]\n",
    "                p['connect'] = f[1]\n",
    "            if f[0] == 'DATACOMPLETE':\n",
    "                complete = f[1]\n",
    "                p['complete'] = f[1]\n",
    "            if f[0] == 'DIDTIMEOUT':\n",
    "                timeout = f[1]\n",
    "        if timeout == '0':\n",
    "            transfer = float(complete) - float(connect)    \n",
    "            if transfer < 30 and transfer > 0:\n",
    "                p['transfer'] = transfer   \n",
    "                dps.append(p)\n",
    "    day_ps.append(dps)\n"
   ]
  },
  {
   "cell_type": "code",
   "execution_count": 56,
   "metadata": {
    "collapsed": false
   },
   "outputs": [],
   "source": [
    "transfer = []\n",
    "\n",
    "for day in day_ps:\n",
    "    t = []\n",
    "    for dp in dps:\n",
    "        t.append(dp['transfer'])\n",
    "    transfer.append(t)\n",
    "\n",
    "t = np.median(transfer, axis=0)"
   ]
  },
  {
   "cell_type": "code",
   "execution_count": 57,
   "metadata": {
    "collapsed": false
   },
   "outputs": [
    {
     "name": "stderr",
     "output_type": "stream",
     "text": [
      "INFO:bokeh.core.state:Session output file 'transfer_times.html' already exists, will be overwritten.\n",
      "/usr/local/lib/python2.7/dist-packages/bokeh/models/sources.py:81: BokehUserWarning: ColumnDataSource's columns must be of the same length\n",
      "  lambda: warnings.warn(\"ColumnDataSource's columns must be of the same length\", BokehUserWarning))\n"
     ]
    }
   ],
   "source": [
    "import numpy as np\n",
    "\n",
    "from bokeh.layouts import gridplot\n",
    "from bokeh.plotting import figure, output_file, show\n",
    "\n",
    "TOOLS = \"pan,wheel_zoom,box_zoom,reset,save,box_select\"\n",
    "\n",
    "M = len(links)\n",
    "# prepare some data\n",
    "N = len(transfer)\n",
    "x = np.linspace(0, M, N)\n",
    "# output to static HTML file\n",
    "output_file(\"transfer_times.html\")\n",
    "\n",
    "# create a new plot\n",
    "s1 = figure(width=2048, plot_height=1024, tools=TOOLS)\n",
    "s1.line(x, t, line_dash=(1, 2), line_color=\"green\", line_width=2)\n",
    "# NEW: put the subplots in a gridplot\n",
    "p = gridplot([[s1]], toolbar_location=None)\n",
    "\n",
    "# show the results\n",
    "show(p)"
   ]
  },
  {
   "cell_type": "code",
   "execution_count": null,
   "metadata": {
    "collapsed": true
   },
   "outputs": [],
   "source": []
  }
 ],
 "metadata": {
  "kernelspec": {
   "display_name": "Python 2",
   "language": "python",
   "name": "python2"
  },
  "language_info": {
   "codemirror_mode": {
    "name": "ipython",
    "version": 2
   },
   "file_extension": ".py",
   "mimetype": "text/x-python",
   "name": "python",
   "nbconvert_exporter": "python",
   "pygments_lexer": "ipython2",
   "version": "2.7.12"
  }
 },
 "nbformat": 4,
 "nbformat_minor": 2
}
