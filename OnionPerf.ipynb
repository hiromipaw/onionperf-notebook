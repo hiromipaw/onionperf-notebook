{
 "cells": [
  {
   "cell_type": "code",
   "execution_count": 1,
   "metadata": {
    "collapsed": false
   },
   "outputs": [],
   "source": [
    "import urllib2\n",
    "import ssl\n",
    "\n",
    "ctx = ssl.create_default_context()\n",
    "ctx.check_hostname = False\n",
    "ctx.verify_mode = ssl.CERT_NONE\n",
    "\n",
    "links = [ \"https://199.119.112.144/onionperf-one-51200-2017-01-19.tpf\",\n",
    "          \"https://199.119.112.144/onionperf-one-51200-2017-01-20.tpf\",\n",
    "          \"https://199.119.112.144/onionperf-one-51200-2017-01-21.tpf\",\n",
    "          \"https://199.119.112.144/onionperf-one-51200-2017-01-22.tpf\",\n",
    "          \"https://199.119.112.144/onionperf-one-51200-2017-01-23.tpf\",\n",
    "          \"https://199.119.112.144/onionperf-one-51200-2017-01-24.tpf\",         \n",
    "        ]\n",
    "\n",
    "days = []\n",
    "\n",
    "for link in links:\n",
    "    f = urllib2.urlopen(link, context=ctx)\n",
    "    myfile = f.read()\n",
    "    days.append(myfile)"
   ]
  },
  {
   "cell_type": "code",
   "execution_count": 14,
   "metadata": {
    "collapsed": false
   },
   "outputs": [],
   "source": [
    "from datetime import datetime\n",
    "\n",
    "class DataPoint: \n",
    "    def __init__(self, iterable=[]):\n",
    "        self.data = {}      \n",
    "        self.__update(iterable)\n",
    "\n",
    "    def update(self, iterable):\n",
    "        for item in iterable:\n",
    "            key = item[0]\n",
    "            value = item[1]\n",
    "            self.data[key]=value\n",
    "\n",
    "    __update = update   # private copy of original update() method\n",
    "    \n",
    "    def setStr(self, s, d):\n",
    "        self.data[s] = str(d)\n",
    "        \n",
    "    def setFilesize(self, d):\n",
    "        self.data[\"FILESIZE\"] = int(d)\n",
    "    \n",
    "    def setTimeStamp(self, s, d):\n",
    "        self.data[s] = datetime.fromtimestamp(float(d))\n",
    "\n",
    "    def setWritebytes(self, d):\n",
    "        self.data[\"WRITEBYTES\"] = int(d)\n",
    "    \n",
    "    def setReadbytes(self, d):\n",
    "        self.data[\"READBYTES\"] = int(d)\n",
    "        \n",
    "    def setDidtimeout(self, d):\n",
    "        if d == '1':\n",
    "            self.data[\"DIDTIMEOUT\"] = True\n",
    "        elif d == '0':\n",
    "            self.data[\"DIDTIMEOUT\"] = False\n",
    "    \n",
    "    def setPath(self, d):\n",
    "        self.data[\"PATH\"] = d.split(',')\n",
    "        \n",
    "    def setBuildTimes(self, d):\n",
    "        bt = d.split(',')\n",
    "        self.data[\"BUILDTIMES\"] = [float(t) for t in bt]\n",
    "        \n",
    "    def setTimeout(self, d):\n",
    "        self.data[\"TIMEOUT\"] = int(d)\n",
    "        \n",
    "    def setQuantile(self, d):\n",
    "        self.data[\"QUANTILE\"] = float(d)\n",
    "    \n",
    "    def setCircId(self, d):\n",
    "        self.data[\"CIRC_ID\"] = int(d)\n",
    "        \n",
    "    def setUsedBy(self, d):\n",
    "        self.data[\"USED_BY\"] = int(d)\n",
    "        \n",
    "    def setData(self, k, d):\n",
    "        selectors = {\"SOURCE\": lambda d: self.setStr(\"SOURCE\", d),\n",
    "                     \"FILESIZE\": lambda d: self.setFilesize(d),\n",
    "                     \"START\": lambda d: self.setTimeStamp(\"START\", d),\n",
    "                     \"SOCKET\": lambda d: self.setTimeStamp(\"SOCKET\", d),\n",
    "                     \"CONNECT\": lambda d: self.setTimeStamp(\"CONNECT\", d),\n",
    "                     \"NEGOTIATE\": lambda d: self.setTimeStamp(\"NEGOTIATE\", d),\n",
    "                     \"REQUEST\": lambda d: self.setTimeStamp(\"REQUEST\", d),\n",
    "                     \"RESPONSE\": lambda d: self.setTimeStamp(\"RESPONSE\", d),\n",
    "                     \"DATAPERC0\": lambda d: self.setTimeStamp(\"DATAPER0\", d), \n",
    "                     \"DATAPERC10\": lambda d: self.setTimeStamp(\"DATAPER10\", d),  \n",
    "                     \"DATAPERC100\": lambda d: self.setTimeStamp(\"DATAPER100\", d), \n",
    "                     \"DATAPERC20\": lambda d: self.setTimeStamp(\"DATAPER20\", d), \n",
    "                     \"DATAPERC30\": lambda d: self.setTimeStamp(\"DATAPER30\", d), \n",
    "                     \"DATAPERC40\": lambda d: self.setTimeStamp(\"DATAPER40\", d), \n",
    "                     \"DATAPERC50\": lambda d: self.setTimeStamp(\"DATAPER50\", d), \n",
    "                     \"DATAPERC60\": lambda d: self.setTimeStamp(\"DATAPER60\", d), \n",
    "                     \"DATAPERC70\": lambda d: self.setTimeStamp(\"DATAPER70\", d), \n",
    "                     \"DATAPERC80\": lambda d: self.setTimeStamp(\"DATAPER80\", d), \n",
    "                     \"DATAPERC90\": lambda d: self.setTimeStamp(\"DATAPER90\", d),  \n",
    "                     \"DATAREQUEST\": lambda d: self.setTimeStamp(\"DATAREQUEST\", d), \n",
    "                     \"DATARESPONSE\": lambda d: self.setTimeStamp(\"DATARESPONSE\", d), \n",
    "                     \"DATACOMPLETE\": lambda d: self.setTimeStamp(\"DATACOMPLETE\", d), \n",
    "                     \"WRITEBYTES\": lambda d: self.setWritebytes(d),\n",
    "                     \"READBYTES\": lambda d: self.setReadbytes(d),\n",
    "                     \"DIDTIMEOUT\": lambda d: self.setDidtimeout(d),\n",
    "                     \"LAUNCH\": lambda d: self.setTimeStamp(\"LAUNCH\", d), \n",
    "                     \"USED_AT\": lambda d: self.setTimeStamp(\"USED_AT\", d), \n",
    "                     \"PATH\": lambda d: self.setPath(d),\n",
    "                     \"BUILDTIMES\": lambda d: self.setBuildTimes(d),\n",
    "                     \"TIMEOUT\": lambda d: self.setTimeout(d),\n",
    "                     \"QUANTILE\": lambda d: self.setQuantile(d),\n",
    "                     \"CIRC_ID\": lambda d: self.setCircId(d),\n",
    "                     \"USED_BY\": lambda d: self.setUsedBy(d),\n",
    "                     \"ENDPOINTLOCAL\": lambda d: self.setStr(\"ENDPOINTLOCAL\", d), \n",
    "                     \"ENDPOINTPROXY\": lambda d: self.setStr(\"ENDPOINTPROXY\", d), \n",
    "                     \"ENDPOINTREMOTE\": lambda d: self.setStr(\"ENDPOINTREMOTE\", d),\n",
    "                     \"HOSTNAMELOCAL\": lambda d: self.setStr(\"HOSTNAMELOCAL\", d),\n",
    "                     \"HOSTNAMEREMOTE\": lambda d: self.setStr(\"HOSTNAMEREMOTE\", d)}\n",
    "            \n",
    "        return selectors[k](d)\n",
    "        "
   ]
  },
  {
   "cell_type": "code",
   "execution_count": 16,
   "metadata": {
    "collapsed": false
   },
   "outputs": [],
   "source": [
    "day_ps = []\n",
    "for text in days:\n",
    "    data = text.split('@type torperf 1.0')\n",
    "    data_points = []\n",
    "    for d in data:\n",
    "        dp = d.split(' ')\n",
    "        data_points.append(dp)\n",
    "    data_points.pop(0)\n",
    "\n",
    "    dps = []\n",
    "    for dp in data_points:\n",
    "        p = DataPoint()\n",
    "        connect = 0\n",
    "        complete = 0\n",
    "        timeout = 0\n",
    "        for d in dp:\n",
    "            f = d.split('=')\n",
    "            key = f[0]\n",
    "            value = f[1]\n",
    "            if '\\r\\n' in f[0]:\n",
    "                key = f[0].split('\\r\\n')[1]\n",
    "            p.setData(key, value)   \n",
    "        \n",
    "        dps.append(p.data)\n",
    "    day_ps.append(dps)\n"
   ]
  },
  {
   "cell_type": "code",
   "execution_count": 41,
   "metadata": {
    "collapsed": false
   },
   "outputs": [],
   "source": [
    "import numpy as np\n",
    "\n",
    "deltas = []\n",
    "\n",
    "for day in day_ps:\n",
    "    t = []\n",
    "    for dp in dps:\n",
    "        transfer = dp['DATAPER100'] - dp['DATAPER0']\n",
    "        t.append(float(transfer.microseconds)/float(100000))\n",
    "    deltas.append(t)\n",
    "\n",
    "t = np.median(deltas, axis=0)"
   ]
  },
  {
   "cell_type": "code",
   "execution_count": 43,
   "metadata": {
    "collapsed": false
   },
   "outputs": [
    {
     "name": "stderr",
     "output_type": "stream",
     "text": [
      "/usr/local/lib/python2.7/dist-packages/bokeh/models/sources.py:81: BokehUserWarning: ColumnDataSource's columns must be of the same length\n",
      "  lambda: warnings.warn(\"ColumnDataSource's columns must be of the same length\", BokehUserWarning))\n"
     ]
    }
   ],
   "source": [
    "from bokeh.layouts import gridplot\n",
    "from bokeh.plotting import figure, output_file, show\n",
    "\n",
    "TOOLS = \"pan,wheel_zoom,box_zoom,reset,save,box_select\"\n",
    "\n",
    "M = len(links)\n",
    "# prepare some data\n",
    "N = len(deltas)\n",
    "x = np.linspace(0, M, N)\n",
    "# output to static HTML file\n",
    "output_file(\"transfer_times.html\")\n",
    "\n",
    "# create a new plot\n",
    "s1 = figure(width=2048, plot_height=1024, tools=TOOLS)\n",
    "s1.line(x, t, line_dash=(1, 2), line_color=\"green\", line_width=2)\n",
    "# NEW: put the subplots in a gridplot\n",
    "p = gridplot([[s1]], toolbar_location=None)\n",
    "\n",
    "# show the results\n",
    "show(p)"
   ]
  },
  {
   "cell_type": "code",
   "execution_count": null,
   "metadata": {
    "collapsed": true
   },
   "outputs": [],
   "source": []
  }
 ],
 "metadata": {
  "kernelspec": {
   "display_name": "Python 2",
   "language": "python",
   "name": "python2"
  },
  "language_info": {
   "codemirror_mode": {
    "name": "ipython",
    "version": 2
   },
   "file_extension": ".py",
   "mimetype": "text/x-python",
   "name": "python",
   "nbconvert_exporter": "python",
   "pygments_lexer": "ipython2",
   "version": "2.7.12"
  }
 },
 "nbformat": 4,
 "nbformat_minor": 2
}
